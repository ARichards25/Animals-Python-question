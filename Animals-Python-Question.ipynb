{
 "cells": [
  {
   "cell_type": "code",
   "execution_count": 1,
   "id": "dd11773a",
   "metadata": {},
   "outputs": [
    {
     "name": "stdout",
     "output_type": "stream",
     "text": [
      "Enter the number of penguins:8\n",
      "Enter the number of seals:2\n",
      "Enter the number of polar bears:24\n",
      "The food consumed by penguins is 800kg \n",
      " The food consumed by seals is 400kg \n",
      " The food consumed by polar bears is 14400kg\n"
     ]
    }
   ],
   "source": [
    "\n",
    "penguins = int(input(\"Enter the number of penguins:\"))\n",
    "seals = int(input(\"Enter the number of seals:\"))\n",
    "polar_bears = int(input(\"Enter the number of polar bears:\"))\n",
    "\n",
    "daily_penguin_ration = int(100)\n",
    "daily_seal_ration = int(200)\n",
    "daily_polar_bear_ration = int(600)\n",
    "\n",
    "monthly_penguin_consumption = penguins * daily_penguin_ration\n",
    "monthly_seal_consumption = seals * daily_seal_ration\n",
    "monthly_polar_bear_consumption = polar_bears * daily_polar_bear_ration\n",
    "\n",
    "print(\"The food consumed by penguins is \" + str(monthly_penguin_consumption)+ \"kg \\n The food consumed by seals is \" + str(monthly_seal_consumption)+ \"kg \\n The food consumed by polar bears is \" + str(monthly_polar_bear_consumption)+ \"kg\")"
   ]
  },
  {
   "cell_type": "code",
   "execution_count": null,
   "id": "d48c130b",
   "metadata": {},
   "outputs": [],
   "source": []
  }
 ],
 "metadata": {
  "kernelspec": {
   "display_name": "Python 3",
   "language": "python",
   "name": "python3"
  },
  "language_info": {
   "codemirror_mode": {
    "name": "ipython",
    "version": 3
   },
   "file_extension": ".py",
   "mimetype": "text/x-python",
   "name": "python",
   "nbconvert_exporter": "python",
   "pygments_lexer": "ipython3",
   "version": "3.9.12"
  }
 },
 "nbformat": 4,
 "nbformat_minor": 5
}
